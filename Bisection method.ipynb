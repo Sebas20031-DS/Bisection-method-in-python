{
 "cells": [
  {
   "cell_type": "markdown",
   "metadata": {},
   "source": [
    "#### Sebastián Reyes\n",
    "## Bisection method for function roots calculation\n",
    "### Explication of the method"
   ]
  },
  {
   "attachments": {},
   "cell_type": "markdown",
   "metadata": {},
   "source": [
    "The bisection method is based on the intermediate value theorem, which states that for any continuous function $f$ on a closed interval $[a,b]$, every value between $f(a)$ and $f(b)$  is the image of at least one value on that interval"
   ]
  },
  {
   "attachments": {},
   "cell_type": "markdown",
   "metadata": {},
   "source": [
    "If $f(a)$ and $f(b)$ have opposite signs, 0 would be a value between $f(a)$ and $f(b)$, so there is certainly at least one point $c$ that satisfies $f(c)=0$"
   ]
  },
  {
   "attachments": {},
   "cell_type": "markdown",
   "metadata": {},
   "source": [
    "The conditions to be able to apply this method are:\n",
    "- The function must be continuous\n",
    "- $f(a)$ and $f(b)$ must have opposite signs\n"
   ]
  },
  {
   "attachments": {},
   "cell_type": "markdown",
   "metadata": {},
   "source": [
    "The method consists of, given the conditions, take a midpoint between $a$ and $b$ (called $c$)\n",
    "Calculate the value of $f(c)$ if the result is negative, replace $c$ by $a$ on the interval otherwise replace $c$ by $b$"
   ]
  },
  {
   "attachments": {},
   "cell_type": "markdown",
   "metadata": {},
   "source": [
    "With each new value c that we calculate in the function we will find the exact value of the root or an approximate value."
   ]
  },
  {
   "attachments": {},
   "cell_type": "markdown",
   "metadata": {},
   "source": [
    "### Python\n",
    "$$f(x)=x^3+4x^2-10$$"
   ]
  },
  {
   "cell_type": "code",
   "execution_count": 1,
   "metadata": {},
   "outputs": [],
   "source": [
    "def f(x):\n",
    "    return x**3+4*x**2-10"
   ]
  },
  {
   "cell_type": "code",
   "execution_count": 2,
   "metadata": {},
   "outputs": [
    {
     "name": "stdout",
     "output_type": "stream",
     "text": [
      "Interval: [-5, 14]\n"
     ]
    }
   ],
   "source": [
    "# Calculate f(1) and f(2) to see if the interval is useful for the method.\n",
    "print(\"Interval: [{}, {}]\".format(f(1), f(2)))"
   ]
  },
  {
   "cell_type": "code",
   "execution_count": 11,
   "metadata": {},
   "outputs": [
    {
     "data": {
      "image/png": "[encoded data removed]",
      "text/plain": [
       "<Figure size 640x480 with 1 Axes>"
      ]
     },
     "metadata": {},
     "output_type": "display_data"
    },
    {
     "data": {
      "text/plain": [
       "<sympy.plotting.plot.Plot at 0x21812d18f90>"
      ]
     },
     "execution_count": 11,
     "metadata": {},
     "output_type": "execute_result"
    }
   ],
   "source": [
    "# Plot of the function\n",
    "plot(f(x), (x,1,2))"
   ]
  },
  {
   "cell_type": "code",
   "execution_count": 6,
   "metadata": {},
   "outputs": [],
   "source": [
    "from sympy import *\n",
    "x = Symbol(\"x\")"
   ]
  },
  {
   "cell_type": "code",
   "execution_count": 13,
   "metadata": {},
   "outputs": [],
   "source": [
    "# e is the error value and the decimal places of approximation in case of not finding the real root value\n",
    "def bisection(f, a, b, e=0.0001):\n",
    "    # Remember that to apply the method, f(a) and f(b) must have opposite signs, so we define:\n",
    "    if f(a) * f(b) < 0:\n",
    "        # While b - a is greater than the error value, continue executing\n",
    "        while b - a > e:\n",
    "            # Define c as we did above\n",
    "            c = (a + b) / 2\n",
    "            # If f(c) is negative, replace \"a\" with c\n",
    "            if f(c) < 0:\n",
    "                a = c\n",
    "            # If f(c) is positive, replace \"b\" with c\n",
    "            elif f(c) > 0:\n",
    "                b = c\n",
    "            # Otherwise, f(c) = 0 (Exact root found)\n",
    "            else:\n",
    "                print('Exact root')\n",
    "                return c\n",
    "        # When b - a < e is satisfied\n",
    "        print('Approximate root: ', c)\n",
    "    # If f(a) and f(b) have the same sign, it means the method cannot be applied\n",
    "    else:\n",
    "        print(\"The method cannot be applied\")\n",
    "        return None\n"
   ]
  },
  {
   "cell_type": "code",
   "execution_count": 14,
   "metadata": {},
   "outputs": [
    {
     "name": "stdout",
     "output_type": "stream",
     "text": [
      "Approximate root:  1.36517333984375\n"
     ]
    }
   ],
   "source": [
    "# Aplicando la función\n",
    "bisection(f,1,2)"
   ]
  }
 ],
 "metadata": {
  "kernelspec": {
   "display_name": "Python 3.10.7 64-bit",
   "language": "python",
   "name": "python3"
  },
  "language_info": {
   "codemirror_mode": {
    "name": "ipython",
    "version": 3
   },
   "file_extension": ".py",
   "mimetype": "text/x-python",
   "name": "python",
   "nbconvert_exporter": "python",
   "pygments_lexer": "ipython3",
   "version": "3.11.4"
  },
  "orig_nbformat": 4,
  "vscode": {
   "interpreter": {
    "hash": "3ef525aed409cc5a13783047c8d4d090b051bbc20387ad523d849e44a70e3fe1"
   }
  }
 },
 "nbformat": 4,
 "nbformat_minor": 2
}
