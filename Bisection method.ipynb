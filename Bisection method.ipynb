{
 "cells": [
  {
   "cell_type": "markdown",
   "metadata": {},
   "source": [
    "## **Taller 02 (Calculo)**\n",
    "### Por: Sebstián Reyes, Juan Morales, Francisco Flores"
   ]
  },
  {
   "cell_type": "markdown",
   "metadata": {},
   "source": [
    "### **Automatización el análisis de si una relación es una función de un conjunto en otro:**\n"
   ]
  },
  {
   "cell_type": "markdown",
   "metadata": {},
   "source": [
    "### ***Función 1***\n",
    "\n",
    "        \"func_cond_1\"\n",
    "\n",
    "        Esta función devolverá un booleano indicando si la relación es subconjunto del producto cartesiano de los dos primeros conjuntos."
   ]
  },
  {
   "cell_type": "code",
   "execution_count": 1,
   "metadata": {},
   "outputs": [],
   "source": [
    "def fun_cond_1(A,B,f):\n",
    "    return all(i in A and j in B for i,j in f)"
   ]
  },
  {
   "cell_type": "markdown",
   "metadata": {},
   "source": [
    "***Ejemplo de función:***"
   ]
  },
  {
   "cell_type": "code",
   "execution_count": 2,
   "metadata": {},
   "outputs": [],
   "source": [
    "A = {1,2,3} \n",
    "B = {5,6,7,8} \n",
    "f = {(1,5),(2,6),(3,7)}"
   ]
  },
  {
   "cell_type": "code",
   "execution_count": 3,
   "metadata": {},
   "outputs": [
    {
     "data": {
      "text/plain": [
       "True"
      ]
     },
     "execution_count": 3,
     "metadata": {},
     "output_type": "execute_result"
    }
   ],
   "source": [
    "fun_cond_1(A,B,f)"
   ]
  },
  {
   "cell_type": "markdown",
   "metadata": {},
   "source": [
    "***Ejemplo de no función:***"
   ]
  },
  {
   "cell_type": "code",
   "execution_count": 4,
   "metadata": {},
   "outputs": [],
   "source": [
    "A = {1,2,3} \n",
    "B = {5,6,7,8} \n",
    "f = {(1,21),(2,12),(3,45)} "
   ]
  },
  {
   "cell_type": "code",
   "execution_count": 5,
   "metadata": {},
   "outputs": [
    {
     "data": {
      "text/plain": [
       "False"
      ]
     },
     "execution_count": 5,
     "metadata": {},
     "output_type": "execute_result"
    }
   ],
   "source": [
    "fun_cond_1(A,B,f)"
   ]
  },
  {
   "cell_type": "markdown",
   "metadata": {},
   "source": [
    "### ***Función 2***\n",
    "\n",
    "        \"func_cond_2\"\n",
    "\n",
    "        Esta función devolverá un booleano indicando si la relación cumple que para todo elemento del primer conjunto, \n",
    "        existe un elemento en el segundo conjunto tal que el par ordenado formado por estos elementos está en la relación."
   ]
  },
  {
   "cell_type": "code",
   "execution_count": 6,
   "metadata": {},
   "outputs": [],
   "source": [
    "def func_cond_2(A,B,f):\n",
    "    #creamos una lista vacía\n",
    "    lista0 = []\n",
    "    #un bucle de repetición que recorre los valores de A\n",
    "    for x0 in A:\n",
    "        #instanciamos una nueva lista\n",
    "        #recorremos los valores de  la función\n",
    "        #si la función tiene algún valor que sea igual a los elementos del conjunto de salida se añade a la lista una vez por cada iteración del bucle anterior\n",
    "        lista_x = [y for x,y in f if x==x0]\n",
    "        #si se ha añadido algún elemento a la lista se añade un booleano a la primera lista\n",
    "        if len(lista_x)==1:\n",
    "            lista0.append(True)\n",
    "        #si no añadimos un False\n",
    "        else:\n",
    "            lista0.append(False)\n",
    "    #En caso de que exista algún false en la lista la lista tiene valor False y es el valor que nos retorna la función        \n",
    "    return all(lista0)"
   ]
  },
  {
   "cell_type": "markdown",
   "metadata": {},
   "source": [
    "***Ejemplo de función:***"
   ]
  },
  {
   "cell_type": "code",
   "execution_count": 7,
   "metadata": {},
   "outputs": [],
   "source": [
    "A = {1,2,3} \n",
    "B = {5,6,7,8} \n",
    "f = {(1,5),(2,6),(3,7)}"
   ]
  },
  {
   "cell_type": "code",
   "execution_count": 8,
   "metadata": {},
   "outputs": [
    {
     "data": {
      "text/plain": [
       "True"
      ]
     },
     "execution_count": 8,
     "metadata": {},
     "output_type": "execute_result"
    }
   ],
   "source": [
    "func_cond_2(A,B,f)"
   ]
  },
  {
   "cell_type": "markdown",
   "metadata": {},
   "source": [
    "***Ejemplo de no función:***"
   ]
  },
  {
   "cell_type": "code",
   "execution_count": 9,
   "metadata": {},
   "outputs": [],
   "source": [
    "A = {1,2,3} \n",
    "B = {5,6,7,8} \n",
    "f = {(1,5),(2,6)}"
   ]
  },
  {
   "cell_type": "code",
   "execution_count": 10,
   "metadata": {},
   "outputs": [
    {
     "data": {
      "text/plain": [
       "False"
      ]
     },
     "execution_count": 10,
     "metadata": {},
     "output_type": "execute_result"
    }
   ],
   "source": [
    "func_cond_2(A,B,f)"
   ]
  },
  {
   "cell_type": "markdown",
   "metadata": {},
   "source": [
    "### ***Función 3***\n",
    "\n",
    "        \"func_cond_3\"\n",
    "\n",
    "        Esta función devolverá un booleano indicando si la relación cumple que con la condición restante para ser función."
   ]
  },
  {
   "cell_type": "code",
   "execution_count": 11,
   "metadata": {},
   "outputs": [],
   "source": [
    "def func_cond_3(A,B,f):\n",
    "    #creamos una lista vacía\n",
    "    lista1 = []\n",
    "    #un bucle de repetición que recorre los valores de A\n",
    "    for x0 in A:\n",
    "        #instanciamos una nueva lista\n",
    "        #recorremos los valores de  la función\n",
    "        #si la función tiene algún valor que sea igual a los elementos del conjunto de salida se añade a la lista una vez por cada iteración del bucle anterior\n",
    "        lista_x = [y for x,y in f if x==x0]\n",
    "        if len(lista_x)<=1:\n",
    "            lista1.append(True)\n",
    "        else:\n",
    "            lista1.append(False)\n",
    "    return all(lista1)"
   ]
  },
  {
   "cell_type": "markdown",
   "metadata": {},
   "source": [
    "***Ejemplo de función:***"
   ]
  },
  {
   "cell_type": "code",
   "execution_count": 12,
   "metadata": {},
   "outputs": [],
   "source": [
    "A = {1,2,3} \n",
    "B = {5,6,7,8} \n",
    "f = {(1,5),(2,8),(3,8)} "
   ]
  },
  {
   "cell_type": "code",
   "execution_count": 13,
   "metadata": {},
   "outputs": [
    {
     "data": {
      "text/plain": [
       "True"
      ]
     },
     "execution_count": 13,
     "metadata": {},
     "output_type": "execute_result"
    }
   ],
   "source": [
    "func_cond_3(A,B,f)"
   ]
  },
  {
   "cell_type": "markdown",
   "metadata": {},
   "source": [
    "***Ejemplo de no función:***"
   ]
  },
  {
   "cell_type": "code",
   "execution_count": 14,
   "metadata": {},
   "outputs": [],
   "source": [
    "A = {1,2,3} \n",
    "B = {5,6,7,8} \n",
    "f = {(1,5),(2,8),(3,8),(1,6)} "
   ]
  },
  {
   "cell_type": "code",
   "execution_count": 15,
   "metadata": {},
   "outputs": [
    {
     "data": {
      "text/plain": [
       "False"
      ]
     },
     "execution_count": 15,
     "metadata": {},
     "output_type": "execute_result"
    }
   ],
   "source": [
    "func_cond_3(A,B,f)"
   ]
  },
  {
   "cell_type": "markdown",
   "metadata": {},
   "source": [
    "### ***Función 4***\n",
    "\n",
    "        \"func_cond\"\n",
    "\n",
    "        Esta función devolverá un booleano indicando si la relación es una función del primer conjunto en el segundo.\n"
   ]
  },
  {
   "cell_type": "code",
   "execution_count": 16,
   "metadata": {},
   "outputs": [],
   "source": [
    "def func_cond_4(A,B,f):\n",
    "    if fun_cond_1(A,B,f)==True and func_cond_2(A,B,f)==True and func_cond_3(A,B,f)==True :\n",
    "        return True\n",
    "    else:\n",
    "        raise ValueError (\"No es función\")"
   ]
  },
  {
   "cell_type": "markdown",
   "metadata": {},
   "source": [
    "***Ejemplo de función:***"
   ]
  },
  {
   "cell_type": "code",
   "execution_count": 17,
   "metadata": {},
   "outputs": [],
   "source": [
    "A = {1,2,3} \n",
    "B = {5,6,7,8} \n",
    "f = {(1,5),(2,8),(3,8)} "
   ]
  },
  {
   "cell_type": "code",
   "execution_count": 18,
   "metadata": {},
   "outputs": [
    {
     "data": {
      "text/plain": [
       "True"
      ]
     },
     "execution_count": 18,
     "metadata": {},
     "output_type": "execute_result"
    }
   ],
   "source": [
    "func_cond_4(A,B,f)"
   ]
  },
  {
   "cell_type": "markdown",
   "metadata": {},
   "source": [
    "***Ejemplo de no función:***"
   ]
  },
  {
   "cell_type": "code",
   "execution_count": 19,
   "metadata": {},
   "outputs": [],
   "source": [
    "A = {1,2,3} \n",
    "B = {5,6,7,8} \n",
    "f = {(1,5),(2,8),(2,5)} "
   ]
  },
  {
   "cell_type": "code",
   "execution_count": 20,
   "metadata": {},
   "outputs": [
    {
     "ename": "ValueError",
     "evalue": "No es función",
     "output_type": "error",
     "traceback": [
      "\u001b[1;31m---------------------------------------------------------------------------\u001b[0m",
      "\u001b[1;31mValueError\u001b[0m                                Traceback (most recent call last)",
      "Cell \u001b[1;32mIn [20], line 1\u001b[0m\n\u001b[1;32m----> 1\u001b[0m func_cond_4(A,B,f)\n",
      "Cell \u001b[1;32mIn [16], line 5\u001b[0m, in \u001b[0;36mfunc_cond_4\u001b[1;34m(A, B, f)\u001b[0m\n\u001b[0;32m      3\u001b[0m     \u001b[39mreturn\u001b[39;00m \u001b[39mTrue\u001b[39;00m\n\u001b[0;32m      4\u001b[0m \u001b[39melse\u001b[39;00m:\n\u001b[1;32m----> 5\u001b[0m     \u001b[39mraise\u001b[39;00m \u001b[39mValueError\u001b[39;00m (\u001b[39m\"\u001b[39m\u001b[39mNo es función\u001b[39m\u001b[39m\"\u001b[39m)\n",
      "\u001b[1;31mValueError\u001b[0m: No es función"
     ]
    }
   ],
   "source": [
    "func_cond_4(A,B,f)"
   ]
  },
  {
   "cell_type": "markdown",
   "metadata": {},
   "source": [
    "### ***Suponiendo que f: A $\\to$ B si es función***"
   ]
  },
  {
   "cell_type": "markdown",
   "metadata": {},
   "source": [
    "### ***Función 5***\n",
    "\n",
    "        \"func_iny\"\n",
    "\n",
    "        Esta función devolverá un booleano indicando si la relación ingresada es una función inyectiva, \n",
    "        en caso de que no se ingrese una función, deberá indicar un mensaje de error.\n"
   ]
  },
  {
   "cell_type": "code",
   "execution_count": 32,
   "metadata": {},
   "outputs": [],
   "source": [
    "def func_iny(A,B,f):\n",
    "    lista1 = []\n",
    "    for y0 in B:\n",
    "        lista_x = [y for x,y in f if y==y0]\n",
    "        if len(lista_x)<=1:\n",
    "            lista1.append(True)\n",
    "        else:\n",
    "            lista1.append(False)\n",
    "    if all(lista1) == True:\n",
    "        return True\n",
    "    else:\n",
    "        raise ValueError (\"No cumple la condición\")"
   ]
  },
  {
   "cell_type": "markdown",
   "metadata": {},
   "source": [
    "***Ejemplo de función inyectiva:***"
   ]
  },
  {
   "cell_type": "code",
   "execution_count": 33,
   "metadata": {},
   "outputs": [],
   "source": [
    "A = {1,2,3} \n",
    "B = {5,6,7,8} \n",
    "f = {(1,5),(2,8),(3,7)} "
   ]
  },
  {
   "cell_type": "code",
   "execution_count": 34,
   "metadata": {},
   "outputs": [
    {
     "data": {
      "text/plain": [
       "True"
      ]
     },
     "execution_count": 34,
     "metadata": {},
     "output_type": "execute_result"
    }
   ],
   "source": [
    "func_iny(A,B,f)"
   ]
  },
  {
   "cell_type": "markdown",
   "metadata": {},
   "source": [
    "***Ejemplo de función no inyectiva:***"
   ]
  },
  {
   "cell_type": "code",
   "execution_count": 35,
   "metadata": {},
   "outputs": [],
   "source": [
    "A = {1,2,3} \n",
    "B = {5,6,7,8} \n",
    "f = {(1,5),(2,8),(3,8)} "
   ]
  },
  {
   "cell_type": "code",
   "execution_count": 36,
   "metadata": {},
   "outputs": [
    {
     "ename": "ValueError",
     "evalue": "Los valores de los conjuntos o función no son correctos",
     "output_type": "error",
     "traceback": [
      "\u001b[1;31m---------------------------------------------------------------------------\u001b[0m",
      "\u001b[1;31mValueError\u001b[0m                                Traceback (most recent call last)",
      "Cell \u001b[1;32mIn [36], line 1\u001b[0m\n\u001b[1;32m----> 1\u001b[0m func_iny(A,B,f)\n",
      "Cell \u001b[1;32mIn [32], line 12\u001b[0m, in \u001b[0;36mfunc_iny\u001b[1;34m(A, B, f)\u001b[0m\n\u001b[0;32m     10\u001b[0m     \u001b[39mreturn\u001b[39;00m \u001b[39mTrue\u001b[39;00m\n\u001b[0;32m     11\u001b[0m \u001b[39melse\u001b[39;00m:\n\u001b[1;32m---> 12\u001b[0m     \u001b[39mraise\u001b[39;00m \u001b[39mValueError\u001b[39;00m (\u001b[39m\"\u001b[39m\u001b[39mLos valores de los conjuntos o función no son correctos\u001b[39m\u001b[39m\"\u001b[39m)\n",
      "\u001b[1;31mValueError\u001b[0m: Los valores de los conjuntos o función no son correctos"
     ]
    }
   ],
   "source": [
    "func_iny(A,B,f)"
   ]
  },
  {
   "cell_type": "markdown",
   "metadata": {},
   "source": [
    "### ***Función 6***\n",
    "\n",
    "        \"func_sob\"\n",
    "\n",
    "        Esta función devolverá un booleano indicando si la relación ingresada es una función sobreyectiva, \n",
    "        en caso de que no se ingrese una función, deberá indicar un mensaje de error."
   ]
  },
  {
   "cell_type": "code",
   "execution_count": 37,
   "metadata": {},
   "outputs": [],
   "source": [
    "def func_sob(A,B,f):\n",
    "    lista2 = []\n",
    "    for y0 in B:\n",
    "        lista_y = [x for x,y in f if y==y0]\n",
    "        if len(lista_y)>0:\n",
    "            lista2.append(True)\n",
    "        else:\n",
    "            lista2.append(False)\n",
    "    if all(lista2) == True:\n",
    "        return True\n",
    "    else:\n",
    "        raise ValueError (\"No cumple la condición\")\n"
   ]
  },
  {
   "cell_type": "markdown",
   "metadata": {},
   "source": [
    "***Ejemplo de función sobreyectiva:***"
   ]
  },
  {
   "cell_type": "code",
   "execution_count": 38,
   "metadata": {},
   "outputs": [],
   "source": [
    "A = {1,2,3} \n",
    "B = {5,6,7} \n",
    "f = {(1,5),(2,6),(3,7)} "
   ]
  },
  {
   "cell_type": "code",
   "execution_count": 39,
   "metadata": {},
   "outputs": [
    {
     "data": {
      "text/plain": [
       "True"
      ]
     },
     "execution_count": 39,
     "metadata": {},
     "output_type": "execute_result"
    }
   ],
   "source": [
    "func_sob(A,B,f)"
   ]
  },
  {
   "cell_type": "markdown",
   "metadata": {},
   "source": [
    "***Ejemplo de función no sobreyectiva:***"
   ]
  },
  {
   "cell_type": "code",
   "execution_count": 40,
   "metadata": {},
   "outputs": [],
   "source": [
    "A = {1,2,3} \n",
    "B = {5,6,7} \n",
    "f = {(1,5),(2,6),(3,6)} "
   ]
  },
  {
   "cell_type": "code",
   "execution_count": 41,
   "metadata": {},
   "outputs": [
    {
     "ename": "ValueError",
     "evalue": "No es una funcion sobreyectiva",
     "output_type": "error",
     "traceback": [
      "\u001b[1;31m---------------------------------------------------------------------------\u001b[0m",
      "\u001b[1;31mValueError\u001b[0m                                Traceback (most recent call last)",
      "Cell \u001b[1;32mIn [41], line 1\u001b[0m\n\u001b[1;32m----> 1\u001b[0m func_sob(A,B,f)\n",
      "Cell \u001b[1;32mIn [37], line 12\u001b[0m, in \u001b[0;36mfunc_sob\u001b[1;34m(A, B, f)\u001b[0m\n\u001b[0;32m     10\u001b[0m     \u001b[39mreturn\u001b[39;00m \u001b[39mTrue\u001b[39;00m\n\u001b[0;32m     11\u001b[0m \u001b[39melse\u001b[39;00m:\n\u001b[1;32m---> 12\u001b[0m     \u001b[39mraise\u001b[39;00m \u001b[39mValueError\u001b[39;00m (\u001b[39m\"\u001b[39m\u001b[39mNo es una funcion sobreyectiva\u001b[39m\u001b[39m\"\u001b[39m)\n",
      "\u001b[1;31mValueError\u001b[0m: No es una funcion sobreyectiva"
     ]
    }
   ],
   "source": [
    "func_sob(A,B,f)"
   ]
  },
  {
   "cell_type": "markdown",
   "metadata": {},
   "source": [
    "### ***Función 7***\n",
    "\n",
    "        \"func_biy\"\n",
    "\n",
    "        Esta función devolverá un booleano indicando si la relación ingresada es una función biyectiva, \n",
    "        en caso de que no se ingrese una función, deberá indicar un mensaje de error."
   ]
  },
  {
   "cell_type": "code",
   "execution_count": 42,
   "metadata": {},
   "outputs": [],
   "source": [
    "# Definimos los conjuntos\n",
    "A = {1,2,3} \n",
    "B = {5,6,7,8} \n",
    "f = {(1,5),(2,8),(3,8)} "
   ]
  },
  {
   "cell_type": "code",
   "execution_count": 43,
   "metadata": {},
   "outputs": [],
   "source": [
    "def func_biy(A,B,f):\n",
    "    if func_iny(A,B,f)==True and func_sob(A,B,f)==True :\n",
    "        return True\n",
    "    else:\n",
    "        raise ValueError (\"No cumple la condición\") "
   ]
  },
  {
   "cell_type": "markdown",
   "metadata": {},
   "source": [
    "***Ejemplo de función biyectiva:***"
   ]
  },
  {
   "cell_type": "code",
   "execution_count": 44,
   "metadata": {},
   "outputs": [],
   "source": [
    "A = {1,2,3,4} \n",
    "B = {5,6,7,8} \n",
    "f = {(1,5),(2,6),(3,8),(4,7)} "
   ]
  },
  {
   "cell_type": "code",
   "execution_count": 45,
   "metadata": {},
   "outputs": [
    {
     "data": {
      "text/plain": [
       "True"
      ]
     },
     "execution_count": 45,
     "metadata": {},
     "output_type": "execute_result"
    }
   ],
   "source": [
    "func_biy(A,B,f)"
   ]
  },
  {
   "cell_type": "markdown",
   "metadata": {},
   "source": [
    "***Ejemplo de función no biyectiva:***"
   ]
  },
  {
   "cell_type": "code",
   "execution_count": 46,
   "metadata": {},
   "outputs": [],
   "source": [
    "A = {1,2,3,4} \n",
    "B = {5,6,7} \n",
    "f = {(1,5),(2,6),(3,7),(4,7)} "
   ]
  },
  {
   "cell_type": "code",
   "execution_count": 47,
   "metadata": {},
   "outputs": [
    {
     "ename": "ValueError",
     "evalue": "Los valores de los conjuntos o función no son correctos",
     "output_type": "error",
     "traceback": [
      "\u001b[1;31m---------------------------------------------------------------------------\u001b[0m",
      "\u001b[1;31mValueError\u001b[0m                                Traceback (most recent call last)",
      "Cell \u001b[1;32mIn [47], line 1\u001b[0m\n\u001b[1;32m----> 1\u001b[0m func_biy(A,B,f)\n",
      "Cell \u001b[1;32mIn [43], line 2\u001b[0m, in \u001b[0;36mfunc_biy\u001b[1;34m(A, B, f)\u001b[0m\n\u001b[0;32m      1\u001b[0m \u001b[39mdef\u001b[39;00m \u001b[39mfunc_biy\u001b[39m(A,B,f):\n\u001b[1;32m----> 2\u001b[0m     \u001b[39mif\u001b[39;00m func_iny(A,B,f)\u001b[39m==\u001b[39m\u001b[39mTrue\u001b[39;00m \u001b[39mand\u001b[39;00m func_sob(A,B,f)\u001b[39m==\u001b[39m\u001b[39mTrue\u001b[39;00m :\n\u001b[0;32m      3\u001b[0m         \u001b[39mreturn\u001b[39;00m \u001b[39mTrue\u001b[39;00m\n\u001b[0;32m      4\u001b[0m     \u001b[39melse\u001b[39;00m:\n",
      "Cell \u001b[1;32mIn [32], line 12\u001b[0m, in \u001b[0;36mfunc_iny\u001b[1;34m(A, B, f)\u001b[0m\n\u001b[0;32m     10\u001b[0m     \u001b[39mreturn\u001b[39;00m \u001b[39mTrue\u001b[39;00m\n\u001b[0;32m     11\u001b[0m \u001b[39melse\u001b[39;00m:\n\u001b[1;32m---> 12\u001b[0m     \u001b[39mraise\u001b[39;00m \u001b[39mValueError\u001b[39;00m (\u001b[39m\"\u001b[39m\u001b[39mLos valores de los conjuntos o función no son correctos\u001b[39m\u001b[39m\"\u001b[39m)\n",
      "\u001b[1;31mValueError\u001b[0m: Los valores de los conjuntos o función no son correctos"
     ]
    }
   ],
   "source": [
    "func_biy(A,B,f)"
   ]
  },
  {
   "cell_type": "markdown",
   "metadata": {},
   "source": [
    "### **Video:**\n"
   ]
  }
 ],
 "metadata": {
  "kernelspec": {
   "display_name": "Python 3",
   "language": "python",
   "name": "python3"
  },
  "language_info": {
   "codemirror_mode": {
    "name": "ipython",
    "version": 3
   },
   "file_extension": ".py",
   "mimetype": "text/x-python",
   "name": "python",
   "nbconvert_exporter": "python",
   "pygments_lexer": "ipython3",
   "version": "3.11.0"
  },
  "orig_nbformat": 4,
  "vscode": {
   "interpreter": {
    "hash": "0e8231070d9ffd9955db0ab6c8ca49a80ebda754974ff35c21111d753a5ba1f8"
   }
  }
 },
 "nbformat": 4,
 "nbformat_minor": 2
}
